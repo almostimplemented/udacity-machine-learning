{
 "cells": [
  {
   "cell_type": "markdown",
   "metadata": {},
   "source": [
    "# Machine Learning Engineer Nanodegree\n",
    "## Supervised Learning\n",
    "## Project 2: Building a Student Intervention System"
   ]
  },
  {
   "cell_type": "markdown",
   "metadata": {},
   "source": [
    "Welcome to the second project of the Machine Learning Engineer Nanodegree! In this notebook, some template code has already been provided for you, and it will be your job to implement the additional functionality necessary to successfully complete this project. Sections that begin with **'Implementation'** in the header indicate that the following block of code will require additional functionality which you must provide. Instructions will be provided for each section and the specifics of the implementation are marked in the code block with a `'TODO'` statement. Please be sure to read the instructions carefully!\n",
    "\n",
    "In addition to implementing code, there will be questions that you must answer which relate to the project and your implementation. Each section where you will answer a question is preceded by a **'Question X'** header. Carefully read each question and provide thorough answers in the following text boxes that begin with **'Answer:'**. Your project submission will be evaluated based on your answers to each of the questions and the implementation you provide.  \n",
    "\n",
    ">**Note:** Code and Markdown cells can be executed using the **Shift + Enter** keyboard shortcut. In addition, Markdown cells can be edited by typically double-clicking the cell to enter edit mode."
   ]
  },
  {
   "cell_type": "markdown",
   "metadata": {},
   "source": [
    "### Question 1 - Classification vs. Regression\n",
    "*Your goal for this project is to identify students who might need early intervention before they fail to graduate. Which type of supervised learning problem is this, classification or regression? Why?*"
   ]
  },
  {
   "cell_type": "markdown",
   "metadata": {},
   "source": [
    "**Answer: **\n",
    "This is a (binary) classification problem.\n",
    "\n",
    "_Why?_\n",
    "\n",
    "The codomain of the function being modeled is the finite set `{IS_OK, NEEDS_HELP}` ≈ `{0, 1}`.  "
   ]
  },
  {
   "cell_type": "markdown",
   "metadata": {},
   "source": [
    "## Exploring the Data\n",
    "Run the code cell below to load necessary Python libraries and load the student data. Note that the last column from this dataset, `'passed'`, will be our target label (whether the student graduated or didn't graduate). All other columns are features about each student."
   ]
  },
  {
   "cell_type": "code",
   "execution_count": 48,
   "metadata": {
    "collapsed": false
   },
   "outputs": [
    {
     "name": "stdout",
     "output_type": "stream",
     "text": [
      "Student data read successfully!\n"
     ]
    }
   ],
   "source": [
    "from __future__ import division\n",
    "\n",
    "# Import libraries\n",
    "import numpy as np\n",
    "import pandas as pd\n",
    "from time import time\n",
    "from sklearn.metrics import f1_score\n",
    "\n",
    "# Read student data\n",
    "student_data = pd.read_csv(\"student-data.csv\")\n",
    "print \"Student data read successfully!\""
   ]
  },
  {
   "cell_type": "markdown",
   "metadata": {},
   "source": [
    "### Implementation: Data Exploration\n",
    "Let's begin by investigating the dataset to determine how many students we have information on, and learn about the graduation rate among these students. In the code cell below, you will need to compute the following:\n",
    "- The total number of students, `n_students`.\n",
    "- The total number of features for each student, `n_features`.\n",
    "- The number of those students who passed, `n_passed`.\n",
    "- The number of those students who failed, `n_failed`.\n",
    "- The graduation rate of the class, `grad_rate`, in percent (%).\n"
   ]
  },
  {
   "cell_type": "code",
   "execution_count": 49,
   "metadata": {
    "collapsed": false
   },
   "outputs": [
    {
     "name": "stdout",
     "output_type": "stream",
     "text": [
      "Total number of students: 395\n",
      "Number of features: 30\n",
      "Number of students who passed: 265\n",
      "Number of students who failed: 130\n",
      "Graduation rate of the class: 67.09%\n"
     ]
    }
   ],
   "source": [
    "n_students = len(student_data)\n",
    "\n",
    "n_features = len(student_data.loc[0][:-1])\n",
    "\n",
    "n_passed = len(student_data[student_data['passed'] == 'yes'])\n",
    "\n",
    "n_failed = len(student_data[student_data['passed'] == 'no'])\n",
    "\n",
    "assert n_passed == n_students - n_failed\n",
    "\n",
    "grad_rate = 100.0 * n_passed / n_students\n",
    "\n",
    "# Print the results\n",
    "print \"Total number of students: {}\".format(n_students)\n",
    "print \"Number of features: {}\".format(n_features)\n",
    "print \"Number of students who passed: {}\".format(n_passed)\n",
    "print \"Number of students who failed: {}\".format(n_failed)\n",
    "print \"Graduation rate of the class: {:.2f}%\".format(grad_rate)"
   ]
  },
  {
   "cell_type": "markdown",
   "metadata": {},
   "source": [
    "## Preparing the Data\n",
    "In this section, we will prepare the data for modeling, training and testing.\n",
    "\n",
    "### Identify feature and target columns\n",
    "It is often the case that the data you obtain contains non-numeric features. This can be a problem, as most machine learning algorithms expect numeric data to perform computations with.\n",
    "\n",
    "Run the code cell below to separate the student data into feature and target columns to see if any features are non-numeric."
   ]
  },
  {
   "cell_type": "code",
   "execution_count": 50,
   "metadata": {
    "collapsed": false
   },
   "outputs": [
    {
     "name": "stdout",
     "output_type": "stream",
     "text": [
      "Feature columns:\n",
      "['school', 'sex', 'age', 'address', 'famsize', 'Pstatus', 'Medu', 'Fedu', 'Mjob', 'Fjob', 'reason', 'guardian', 'traveltime', 'studytime', 'failures', 'schoolsup', 'famsup', 'paid', 'activities', 'nursery', 'higher', 'internet', 'romantic', 'famrel', 'freetime', 'goout', 'Dalc', 'Walc', 'health', 'absences']\n",
      "\n",
      "Target column: passed\n",
      "\n",
      "Feature values:\n",
      "  school sex  age address famsize Pstatus  Medu  Fedu     Mjob      Fjob  \\\n",
      "0     GP   F   18       U     GT3       A     4     4  at_home   teacher   \n",
      "1     GP   F   17       U     GT3       T     1     1  at_home     other   \n",
      "2     GP   F   15       U     LE3       T     1     1  at_home     other   \n",
      "3     GP   F   15       U     GT3       T     4     2   health  services   \n",
      "4     GP   F   16       U     GT3       T     3     3    other     other   \n",
      "\n",
      "    ...    higher internet  romantic  famrel  freetime goout Dalc Walc health  \\\n",
      "0   ...       yes       no        no       4         3     4    1    1      3   \n",
      "1   ...       yes      yes        no       5         3     3    1    1      3   \n",
      "2   ...       yes      yes        no       4         3     2    2    3      3   \n",
      "3   ...       yes      yes       yes       3         2     2    1    1      5   \n",
      "4   ...       yes       no        no       4         3     2    1    2      5   \n",
      "\n",
      "  absences  \n",
      "0        6  \n",
      "1        4  \n",
      "2       10  \n",
      "3        2  \n",
      "4        4  \n",
      "\n",
      "[5 rows x 30 columns]\n"
     ]
    }
   ],
   "source": [
    "# Extract feature columns\n",
    "feature_cols = list(student_data.columns[:-1])\n",
    "\n",
    "# Extract target column 'passed'\n",
    "target_col = student_data.columns[-1] \n",
    "\n",
    "# Show the list of columns\n",
    "print \"Feature columns:\\n{}\".format(feature_cols)\n",
    "print \"\\nTarget column: {}\".format(target_col)\n",
    "\n",
    "# Separate the data into feature data and target data (X_all and y_all, respectively)\n",
    "X_all = student_data[feature_cols]\n",
    "y_all = student_data[target_col]\n",
    "\n",
    "# Show the feature information by printing the first five rows\n",
    "print \"\\nFeature values:\"\n",
    "print X_all.head()"
   ]
  },
  {
   "cell_type": "markdown",
   "metadata": {},
   "source": [
    "### Preprocess Feature Columns\n",
    "\n",
    "As you can see, there are several non-numeric columns that need to be converted! Many of them are simply `yes`/`no`, e.g. `internet`. These can be reasonably converted into `1`/`0` (binary) values.\n",
    "\n",
    "Other columns, like `Mjob` and `Fjob`, have more than two values, and are known as _categorical variables_. The recommended way to handle such a column is to create as many columns as possible values (e.g. `Fjob_teacher`, `Fjob_other`, `Fjob_services`, etc.), and assign a `1` to one of them and `0` to all others.\n",
    "\n",
    "These generated columns are sometimes called _dummy variables_, and we will use the [`pandas.get_dummies()`](http://pandas.pydata.org/pandas-docs/stable/generated/pandas.get_dummies.html?highlight=get_dummies#pandas.get_dummies) function to perform this transformation. Run the code cell below to perform the preprocessing routine discussed in this section."
   ]
  },
  {
   "cell_type": "code",
   "execution_count": 51,
   "metadata": {
    "collapsed": false
   },
   "outputs": [
    {
     "name": "stdout",
     "output_type": "stream",
     "text": [
      "Processed feature columns (48 total features):\n",
      "['school_GP', 'school_MS', 'sex_F', 'sex_M', 'age', 'address_R', 'address_U', 'famsize_GT3', 'famsize_LE3', 'Pstatus_A', 'Pstatus_T', 'Medu', 'Fedu', 'Mjob_at_home', 'Mjob_health', 'Mjob_other', 'Mjob_services', 'Mjob_teacher', 'Fjob_at_home', 'Fjob_health', 'Fjob_other', 'Fjob_services', 'Fjob_teacher', 'reason_course', 'reason_home', 'reason_other', 'reason_reputation', 'guardian_father', 'guardian_mother', 'guardian_other', 'traveltime', 'studytime', 'failures', 'schoolsup', 'famsup', 'paid', 'activities', 'nursery', 'higher', 'internet', 'romantic', 'famrel', 'freetime', 'goout', 'Dalc', 'Walc', 'health', 'absences']\n"
     ]
    }
   ],
   "source": [
    "def preprocess_features(X):\n",
    "    ''' Preprocesses the student data and converts non-numeric binary variables into\n",
    "        binary (0/1) variables. Converts categorical variables into dummy variables. '''\n",
    "    \n",
    "    # Initialize new output DataFrame\n",
    "    output = pd.DataFrame(index = X.index)\n",
    "\n",
    "    # Investigate each feature column for the data\n",
    "    for col, col_data in X.iteritems():\n",
    "        \n",
    "        # If data type is non-numeric, replace all yes/no values with 1/0\n",
    "        if col_data.dtype == object:\n",
    "            col_data = col_data.replace(['yes', 'no'], [1, 0])\n",
    "\n",
    "        # If data type is categorical, convert to dummy variables\n",
    "        if col_data.dtype == object:\n",
    "            # Example: 'school' => 'school_GP' and 'school_MS'\n",
    "            col_data = pd.get_dummies(col_data, prefix = col)  \n",
    "        \n",
    "        # Collect the revised columns\n",
    "        output = output.join(col_data)\n",
    "    \n",
    "    return output\n",
    "\n",
    "X_all = preprocess_features(X_all)\n",
    "print \"Processed feature columns ({} total features):\\n{}\".format(len(X_all.columns), list(X_all.columns))"
   ]
  },
  {
   "cell_type": "markdown",
   "metadata": {},
   "source": [
    "### Implementation: Training and Testing Data Split\n",
    "So far, we have converted all _categorical_ features into numeric values. For the next step, we split the data (both features and corresponding labels) into training and test sets. In the following code cell below, you will need to implement the following:\n",
    "- Randomly shuffle and split the data (`X_all`, `y_all`) into training and testing subsets.\n",
    "  - Use 300 training points (approximately 75%) and 95 testing points (approximately 25%).\n",
    "  - Set a `random_state` for the function(s) you use, if provided.\n",
    "  - Store the results in `X_train`, `X_test`, `y_train`, and `y_test`."
   ]
  },
  {
   "cell_type": "code",
   "execution_count": 52,
   "metadata": {
    "collapsed": false
   },
   "outputs": [
    {
     "name": "stdout",
     "output_type": "stream",
     "text": [
      "Training set has 300 samples.\n",
      "Testing set has 95 samples.\n"
     ]
    }
   ],
   "source": [
    "from sklearn.cross_validation import train_test_split\n",
    "X_train, X_test, y_train, y_test = train_test_split(X_all, y_all, test_size=95, random_state=42)\n",
    "\n",
    "# Show the results of the split\n",
    "print \"Training set has {} samples.\".format(X_train.shape[0])\n",
    "print \"Testing set has {} samples.\".format(X_test.shape[0])"
   ]
  },
  {
   "cell_type": "markdown",
   "metadata": {},
   "source": [
    "## Training and Evaluating Models\n",
    "In this section, you will choose 3 supervised learning models that are appropriate for this problem and available in `scikit-learn`. You will first discuss the reasoning behind choosing these three models by considering what you know about the data and each model's strengths and weaknesses. You will then fit the model to varying sizes of training data (100 data points, 200 data points, and 300 data points) and measure the F<sub>1</sub> score. You will need to produce three tables (one for each model) that shows the training set size, training time, prediction time, F<sub>1</sub> score on the training set, and F<sub>1</sub> score on the testing set.\n",
    "\n",
    "**The following supervised learning models are currently available in** [`scikit-learn`](http://scikit-learn.org/stable/supervised_learning.html) **that you may choose from:**\n",
    "- Gaussian Naive Bayes (GaussianNB)\n",
    "- Decision Trees\n",
    "- Ensemble Methods (Bagging, AdaBoost, Random Forest, Gradient Boosting)\n",
    "- K-Nearest Neighbors (KNeighbors)\n",
    "- Stochastic Gradient Descent (SGDC)\n",
    "- Support Vector Machines (SVM)\n",
    "- Logistic Regression"
   ]
  },
  {
   "cell_type": "markdown",
   "metadata": {},
   "source": [
    "### Question 2 - Model Application\n",
    "*List three supervised learning models that are appropriate for this problem. For each model chosen*\n",
    "- Describe one real-world application in industry where the model can be applied. *(You may need to do a small bit of research for this — give references!)* \n",
    "- What are the strengths of the model; when does it perform well? \n",
    "- What are the weaknesses of the model; when does it perform poorly?\n",
    "- What makes this model a good candidate for the problem, given what you know about the data?"
   ]
  },
  {
   "cell_type": "markdown",
   "metadata": {},
   "source": [
    "**Answer: **\n",
    "\n",
    "Logistic Regression\n",
    "------------\n",
    "Logistic regression is a commonly used and interpretable classification algorithm. I have a strong interest in deep learning applications, which use layers of \"artificial neurons\" to learn features from data. For deep learning models used in classification tasks, the final layer is typically a logistic regressor (or, in the case of multinomial distributions, a \"softmax\" regressor). See the architecture for the GoogLeNet for an explicit example. http://www.cs.unc.edu/~wliu/papers/GoogLeNet.pdf\n",
    "\n",
    "One advantage of logistic regression is that it may handle non-linear effects; plus, its interpretability is not much more complex than linear models. The model also makes very little assumptions about the underlying distribution. One disadvantage is that the MLE optimization routine can have trouble converging for certain problem instances, but these can often be addressed by tuning the learning rate or normalizing / rescaling the input data. Finally, the model relies on the discriminative power of existing features: this explains its utility in deep learning applications, where we use backprop and stochastic gradient descent to optimize the features learned by the model to acheive the best performance of the classifier.\n",
    "\n",
    "I think this is a good fit for the problem for two main reasons. First, it is easy to interpret (later we will look at the coefficients derived from the learned model, and how they measure the relative the importance of the various predictor variables). Second, while we do not have a lot of data, I think we have enough to learn a good model, though probably not enough for more sophisticated techniques.\n",
    "\n",
    "Support Vector Machine\n",
    "------------\n",
    "Support vector machines seek a separating hyperplane between the positive and negative data points that maximizes the \"margin\": the goal is to maximize the minimum distance between any data point and the separating hyperplane. I think this technique could work well for this problem for a few reasons: (1) the model is inheretly a binary classifier; (2) the hyperplane is defined only in terms of the \"closest\" points, and so it should be (somewhat) robust to the skew in our distribution (there are more students who passed than failed). Next, (3) despite the hyperplane ultimately being a linear separator, the plane will in fact exist in \"kernel space\": an abstract space defined by a metric function of our choosing. \n",
    "\n",
    "Unfortunately, this can lead to overfitting and an opaque interpretation. \n",
    "\n",
    "One real world use case of support vector machines is in high energy particle physics, in the problem of classifying \"interesting\" events (see \"Support Vector Machines in High Energy Physics\" https://arxiv.org/abs/0803.2345).\n",
    "\n",
    "\n",
    "K-Nearest Neighbors (KNN)\n",
    "------------\n",
    "KNN works by making a prediction for each student based on the predictions of the \"most similar\" data points from training. This technique is limited in its scalability, since the memory requirements for the algorithm grow linearly with the training data. Given the size of our training data, this is not at present an issue. The assumption of the model is that points close together in feature space ought to have similar outcomes, which is not a bad assumption given the problem. I am including this technique as something of a baseline / sanity-check. Since the training time is virtually zero, it is very inexpensive to compare to our more scalable methods above. The low computational cost of prediciton and simplicity of the model are its strengths, and its lack of scalability is its main weakness. Another strength is that the learned function can incorporate non-linear aspects of the underlying distribution. Another weakness is that, over time, \"stale\" data points may be less relevant in predicting the outcome of nearby points, so continued use may require additional maintenance.\n",
    "\n",
    "After some digging, I found the following interesting use case of KNN: detecting transister failures  https://www.researchgate.net/publication/3284325_Fault_Detection_Using_the_k-Nearest_Neighbor_Rule_for_Semiconductor_Manufacturing_Processes . Another more familiar example is KNN being used by Spotify for music recommendations. https://github.com/spotify/annoy"
   ]
  },
  {
   "cell_type": "markdown",
   "metadata": {},
   "source": [
    "### Setup\n",
    "Run the code cell below to initialize three helper functions which you can use for training and testing the three supervised learning models you've chosen above. The functions are as follows:\n",
    "- `train_classifier` - takes as input a classifier and training data and fits the classifier to the data.\n",
    "- `predict_labels` - takes as input a fit classifier, features, and a target labeling and makes predictions using the F<sub>1</sub> score.\n",
    "- `train_predict` - takes as input a classifier, and the training and testing data, and performs `train_clasifier` and `predict_labels`.\n",
    " - This function will report the F<sub>1</sub> score for both the training and testing data separately."
   ]
  },
  {
   "cell_type": "code",
   "execution_count": 53,
   "metadata": {
    "collapsed": false
   },
   "outputs": [],
   "source": [
    "def train_classifier(clf, X_train, y_train):\n",
    "    ''' Fits a classifier to the training data. '''\n",
    "    \n",
    "    # Start the clock, train the classifier, then stop the clock\n",
    "    start = time()\n",
    "    clf.fit(X_train, y_train)\n",
    "    end = time()\n",
    "    \n",
    "    return end - start\n",
    "\n",
    "    \n",
    "def predict_labels(clf, features, target):\n",
    "    ''' Makes predictions using a fit classifier based on F1 score. '''\n",
    "    \n",
    "    # Start the clock, make predictions, then stop the clock\n",
    "    start = time()\n",
    "    y_pred = clf.predict(features)\n",
    "    end = time()\n",
    "    \n",
    "    return (end - start, f1_score(target.values, y_pred, pos_label='yes'))\n",
    "\n",
    "\n",
    "def train_predict(clf, X_train, y_train, X_test, y_test):\n",
    "    ''' Train and predict using a classifer based on F1 score. '''    \n",
    "    # Train the classifier\n",
    "    train_time = train_classifier(clf, X_train, y_train)\n",
    "    (train_predict_time, train_score) = predict_labels(clf, X_train, y_train)\n",
    "    (test_predict_time, test_score) = predict_labels(clf, X_test, y_test)\n",
    "    print \" | {}   |    {:.4f}    |     {:.4f}      |   {:.4f}   |  {:.4f}    |\".format(len(y_train),\n",
    "                      train_time, train_predict_time, train_score, test_score )"
   ]
  },
  {
   "cell_type": "markdown",
   "metadata": {},
   "source": [
    "### Implementation: Model Performance Metrics\n",
    "With the predefined functions above, you will now import the three supervised learning models of your choice and run the `train_predict` function for each one. Remember that you will need to train and predict on each classifier for three different training set sizes: 100, 200, and 300. Hence, you should expect to have 9 different outputs below — 3 for each model using the varying training set sizes. In the following code cell, you will need to implement the following:\n",
    "- Import the three supervised learning models you've discussed in the previous section.\n",
    "- Initialize the three models and store them in `clf_A`, `clf_B`, and `clf_C`.\n",
    " - Use a `random_state` for each model you use, if provided.\n",
    " - **Note:** Use the default settings for each model — you will tune one specific model in a later section.\n",
    "- Create the different training set sizes to be used to train each model.\n",
    " - *Do not reshuffle and resplit the data! The new training points should be drawn from `X_train` and `y_train`.*\n",
    "- Fit each model with each training set size and make predictions on the test set (9 in total).  \n",
    "**Note:** Three tables are provided after the following code cell which can be used to store your results."
   ]
  },
  {
   "cell_type": "code",
   "execution_count": 54,
   "metadata": {
    "collapsed": false
   },
   "outputs": [
    {
     "name": "stdout",
     "output_type": "stream",
     "text": [
      "Classifier 1 - \n",
      "Training a LogisticRegression using a training set size of 300. . .\n",
      " | 100   |    0.0023    |     0.0005      |   0.8593   |  0.7647    |\n",
      " | 200   |    0.0084    |     0.0020      |   0.8562   |  0.7914    |\n",
      " | 300   |    0.0049    |     0.0005      |   0.8468   |  0.8060    |\n",
      "\n",
      "Classifier 4 - \n",
      "Training a SVC using a training set size of 300. . .\n",
      " | 100   |    0.0024    |     0.0017      |   0.8777   |  0.7746    |\n",
      " | 200   |    0.0045    |     0.0034      |   0.8679   |  0.7815    |\n",
      " | 300   |    0.0068    |     0.0076      |   0.8761   |  0.7838    |\n",
      "\n",
      "Classifier 4 - \n",
      "Training a KNeighborsClassifier using a training set size of 300. . .\n",
      " | 100   |    0.0005    |     0.0012      |   0.8060   |  0.7246    |\n",
      " | 200   |    0.0005    |     0.0028      |   0.8800   |  0.7692    |\n",
      " | 300   |    0.0007    |     0.0060      |   0.8809   |  0.7801    |\n",
      "\n"
     ]
    }
   ],
   "source": [
    "# TODO: Import the three supervised learning models from sklearn\n",
    "# from sklearn import model_A\n",
    "# from sklearn import model_B\n",
    "# from skearln import model_C\n",
    "from sklearn.linear_model import LogisticRegression\n",
    "from sklearn.svm import SVC\n",
    "from sklearn.ensemble import GradientBoostingClassifier, AdaBoostClassifier\n",
    "from sklearn.neighbors import KNeighborsClassifier\n",
    "\n",
    "clfs = (LogisticRegression(random_state=42), SVC(random_state=42), KNeighborsClassifier())\n",
    "(lr, svc, knn) = clfs\n",
    "\n",
    "# Execute the 'train_predict' function for each classifier and each training set size\n",
    "i=0\n",
    "for clf in clfs:        \n",
    "    # Indicate the classifier and the training set size\n",
    "    i += 1\n",
    "    print \"Classifier {} - \".format(i)\n",
    "    print \"Training a {} using a training set size of {}. . .\".format(clf.__class__.__name__, len(X_train))\n",
    "\n",
    "    for j in range(1,4):\n",
    "        train_predict(clf, X_train[:100*j], y_train[:100*j], X_test, y_test)\n",
    "    print"
   ]
  },
  {
   "cell_type": "markdown",
   "metadata": {},
   "source": [
    "### Tabular Results\n",
    "Edit the cell below to see how a table can be designed in [Markdown](https://github.com/adam-p/markdown-here/wiki/Markdown-Cheatsheet#tables). You can record your results from above in the tables provided."
   ]
  },
  {
   "cell_type": "markdown",
   "metadata": {},
   "source": [
    "\n",
    " ** Classifer 1 - Logistic Regression**\n",
    " \n",
    " | Training Set Size | Training Time | Prediction Time (test) | F1 Score (train) | F1 Score (test) |\n",
    " | :---------------: | :---------------------: | :--------------------: | :--------------: | :-------------: |\n",
    " | 100   |    0.0023    |     0.0005      |   0.8593   |  0.7647    |\n",
    " | 200   |    0.0084    |     0.0020      |   0.8562   |  0.7914    |\n",
    " | 300   |    0.0049    |     0.0005      |   0.8468   |  0.8060    |\n",
    "  \n",
    " ** Classifer 2 - Support Vector Machine**\n",
    " \n",
    " | Training Set Size | Training Time | Prediction Time (test) | F1 Score (train) | F1 Score (test) |\n",
    " | :---------------: | :---------------------: | :--------------------: | :--------------: | :-------------: |\n",
    " | 100   |    0.0024    |     0.0017      |   0.8777   |  0.7746    |\n",
    " | 200   |    0.0045    |     0.0034      |   0.8679   |  0.7815    |\n",
    " | 300   |    0.0068    |     0.0076      |   0.8761   |  0.7838    |\n",
    " \n",
    " ** Classifer 3 - K-Nearest Neighbors**\n",
    " \n",
    " | Training Set Size | Training Time | Prediction Time (test) | F1 Score (train) | F1 Score (test) |\n",
    " | :---------------: | :---------------------: | :--------------------: | :--------------: | :-------------: |\n",
    " | 100   |    0.0005    |     0.0012      |   0.8060   |  0.7246    |\n",
    " | 200   |    0.0005    |     0.0028      |   0.8800   |  0.7692    |\n",
    " | 300   |    0.0007    |     0.0060      |   0.8809   |  0.7801    |"
   ]
  },
  {
   "cell_type": "markdown",
   "metadata": {},
   "source": [
    "## Choosing the Best Model\n",
    "In this final section, you will choose from the three supervised learning models the *best* model to use on the student data. You will then perform a grid search optimization for the model over the entire training set (`X_train` and `y_train`) by tuning at least one parameter to improve upon the untuned model's F<sub>1</sub> score. "
   ]
  },
  {
   "cell_type": "markdown",
   "metadata": {},
   "source": [
    "### Question 3 - Choosing the Best Model\n",
    "*Based on the experiments you performed earlier, in one to two paragraphs, explain to the board of supervisors what single model you chose as the best model. Which model is generally the most appropriate based on the available data, limited resources, cost, and performance?*"
   ]
  },
  {
   "cell_type": "markdown",
   "metadata": {},
   "source": [
    "**Answer: **\n",
    "\n",
    "I will be optimizing a logistic regression classifier for this problem. Given the limited number of data points and relatively high dimensionality of the data, we would should desire interpretability and low model complexity.\n",
    "\n",
    "Interpretability is a very desirable feature for a model for this specific problem. Presumably, we want not only to classify at risk students, but also \"apply a treatment\" to maximize their chances of passing. Being able to identify which features of the student are contributing to our belief in their risk of failing is important for \"diagnosing\" the at risk student.\n",
    "\n",
    "The logistic regression model also shows consistent F1 score improvement as the number of data points increases, giving hope of further improvement at the future expense of more data collection. The SVM shows strong performance, and there is good reason to believe it may perform the best overall. However, the interpretability of the SVM is not as transparent as that of the LR classifier, and for this reason I am opting against using it. \n",
    "\n",
    "In reality, I would train and optimize both models, and possibly use them together in an ensemble."
   ]
  },
  {
   "cell_type": "markdown",
   "metadata": {},
   "source": [
    "### Question 4 - Model in Layman's Terms\n",
    "*In one to two paragraphs, explain to the board of directors in layman's terms how the final model chosen is supposed to work. Be sure that you are describing the major qualities of the model, such as how the model is trained and how the model makes a prediction. Avoid using advanced mathematical or technical jargon, such as describing equations or discussing the algorithm implementation.*"
   ]
  },
  {
   "cell_type": "markdown",
   "metadata": {},
   "source": [
    "**Answer: **\n",
    "\n",
    "We train a model that learns a set of parameters that correspond to how certain evidence in an examples features correspond to the outcome being predicted. We learn one parameter for each feature. The higher the feature's parameter value, the more strongly it contributes to our belief in a student's risk/safety. The model is trained by iteratively changing the weights of the model to minimize error, until any change in the parameters leads to a negligible change in error (how we define \"negligible\" depends on the tolerance paramter; we will consider three different values in our optimization routine).\n",
    "\n",
    "The exact relationship between the parameters and the weights requires a bit of mathematical jargon. In essence, each parameter indicates how much more likely we think the student is to pass/fail given a fixed increase/decrease in that parameter's value.\n",
    "\n",
    "Explicitly: each learned parameter is the expected change in the log odds of passing for a unit increase in the corresponding feature, holding the other predictor variables constant at certain value. \n",
    "\n",
    "To make a prediciton, the model is given a new, unseen data point, performs a single linear algebra operation, and thresholds the output to determine our prediction of \"pass\" vs. \"fail\". "
   ]
  },
  {
   "cell_type": "markdown",
   "metadata": {},
   "source": [
    "### Implementation: Model Tuning\n",
    "Fine tune the chosen model. Use grid search (`GridSearchCV`) with at least one important parameter tuned with at least 3 different values. You will need to use the entire training set for this. In the code cell below, you will need to implement the following:\n",
    "- Import [`sklearn.grid_search.gridSearchCV`](http://scikit-learn.org/stable/modules/generated/sklearn.grid_search.GridSearchCV.html) and [`sklearn.metrics.make_scorer`](http://scikit-learn.org/stable/modules/generated/sklearn.metrics.make_scorer.html).\n",
    "- Create a dictionary of parameters you wish to tune for the chosen model.\n",
    " - Example: `parameters = {'parameter' : [list of values]}`.\n",
    "- Initialize the classifier you've chosen and store it in `clf`.\n",
    "- Create the F<sub>1</sub> scoring function using `make_scorer` and store it in `f1_scorer`.\n",
    " - Set the `pos_label` parameter to the correct value!\n",
    "- Perform grid search on the classifier `clf` using `f1_scorer` as the scoring method, and store it in `grid_obj`.\n",
    "- Fit the grid search object to the training data (`X_train`, `y_train`), and store it in `grid_obj`."
   ]
  },
  {
   "cell_type": "code",
   "execution_count": 56,
   "metadata": {
    "collapsed": false,
    "scrolled": true
   },
   "outputs": [
    {
     "name": "stdout",
     "output_type": "stream",
     "text": [
      "LogisticRegression\n",
      "Tuned model has a training F1 score of 0.8323.\n",
      "Tuned model has a testing F1 score of 0.7891.\n",
      "Grid search took 1.35158896446 seconds\n",
      "SVC\n",
      "Tuned model has a training F1 score of 0.8323.\n",
      "Tuned model has a testing F1 score of 0.7945.\n",
      "Grid search took 108.40683794 seconds\n",
      "KNeighborsClassifier\n",
      "Tuned model has a training F1 score of 1.0000.\n",
      "Tuned model has a testing F1 score of 0.7867.\n",
      "Grid search took 0.455950975418 seconds\n"
     ]
    }
   ],
   "source": [
    "# TODO: Import 'GridSearchCV' and 'make_scorer'\n",
    "from sklearn.grid_search import GridSearchCV\n",
    "from sklearn.metrics import make_scorer\n",
    "# Running grid search on all classifiers, just out of curiosity\n",
    "\n",
    "f1_scorer = make_scorer(f1_score, pos_label=\"yes\")\n",
    "\n",
    "parameter_dict = {svc.__class__.__name__:[\n",
    "                         {'kernel': ['rbf'], 'gamma': [1e-3, 1e-4],\n",
    "                          'C': [1, 10, 100, 1000]},\n",
    "                         {'kernel': ['linear'], 'C': [1, 10, 100, 1000]}], \n",
    "                  lr.__class__.__name__:\n",
    "                         {'penalty':['l1','l2'], \n",
    "                          'tol':[0.001, 0.0001, 0.00001], \n",
    "                          'C':[0.1,0.6,1.0,2.0], \n",
    "                          'class_weight':[None,'balanced'], \n",
    "                          'n_jobs':[-1]}, \n",
    "                  knn.__class__.__name__:\n",
    "                        {'n_neighbors':range(3,40,3),\n",
    "                         'weights':['distance','uniform']}\n",
    "                 }\n",
    "for clf in clfs:\n",
    "    start = time()\n",
    "    print clf.__class__.__name__\n",
    "    grid_obj = GridSearchCV(clf, parameter_dict[clf.__class__.__name__], scoring=f1_scorer)\n",
    "    grid_obj.fit(X_train, y_train)\n",
    "    # Get the estimator\n",
    "    clf = grid_obj.best_estimator_\n",
    "    end = time()\n",
    "    # Report the final F1 score for training and testing after parameter tuning\n",
    "    print \"Tuned model has a training F1 score of {:.4f}.\".format(predict_labels(clf, X_train, y_train)[1])\n",
    "    print \"Tuned model has a testing F1 score of {:.4f}.\".format(predict_labels(clf, X_test, y_test)[1])\n",
    "    print \"Grid search took \" + str(end - start) + \" seconds\""
   ]
  },
  {
   "cell_type": "markdown",
   "metadata": {},
   "source": [
    "### Question 5 - Final F<sub>1</sub> Score\n",
    "*What is the final model's F<sub>1</sub> score for training and testing? How does that score compare to the untuned model?*"
   ]
  },
  {
   "cell_type": "markdown",
   "metadata": {},
   "source": [
    "**Answer: **\n",
    "\n",
    "The final score for the Logistic Regression model was 0.8323 for training and 0.7891 for testing. The final score is actually slightly worse than the untuned model. \n",
    "\n",
    "Curious, I ran the optimization on SVC and KNN to see how all three changed and which ultimiately did the best. All reached a similar score of around 0.8. I still think LR was a good choice, but in retrospect I do find the SVC attractive: the training complexity is higher than for LR but with the small data that is not too large a burden. The SVC performed the best, but I don't think the difference is very significant."
   ]
  },
  {
   "cell_type": "markdown",
   "metadata": {},
   "source": [
    "> **Note**: Once you have completed all of the code implementations and successfully answered each question above, you may finalize your work by exporting the iPython Notebook as an HTML document. You can do this by using the menu above and navigating to  \n",
    "**File -> Download as -> HTML (.html)**. Include the finished document along with this notebook as your submission."
   ]
  }
 ],
 "metadata": {
  "kernelspec": {
   "display_name": "Python 2",
   "language": "python",
   "name": "python2"
  },
  "language_info": {
   "codemirror_mode": {
    "name": "ipython",
    "version": 2
   },
   "file_extension": ".py",
   "mimetype": "text/x-python",
   "name": "python",
   "nbconvert_exporter": "python",
   "pygments_lexer": "ipython2",
   "version": "2.7.6"
  }
 },
 "nbformat": 4,
 "nbformat_minor": 0
}
